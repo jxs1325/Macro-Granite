{
 "cells": [
  {
   "cell_type": "code",
   "execution_count": 8,
   "metadata": {},
   "outputs": [
    {
     "name": "stdout",
     "output_type": "stream",
     "text": [
      "[4611.222788323133, 127685.86291654946, 297856.7828946357, 527979.7480802125, 636190.7578374096, 720667.7517672464, 773192.782077309] [0.001, 0.002, 0.003, 0.004, 0.005, 0.006999999999999999, 0.009]\n"
     ]
    }
   ],
   "source": [
    "#SI; fuck cgs\n",
    "from scipy.special import erf\n",
    "import numpy as np\n",
    "e = np.exp(1.0)\n",
    "pi=np.pi\n",
    "vapor_energy = 15.7*10**6\n",
    "cp = 730\n",
    "latent_fusion = 160*10**3\n",
    "a=1\n",
    "b=50\n",
    "alpha = 1.4*10**-6\n",
    "Mmax = []\n",
    "Smin = []\n",
    "p=10\n",
    "c=0\n",
    "placeholder=0.0\n",
    "sizeplaceholder=0.0\n",
    "Mx=0.0\n",
    "reduced=7*10**-8\n",
    "for y in range(0,4):\n",
    "\n",
    "    for i in range(1,p):\n",
    "        sigmax = i*10**-(10-y)# x 10^4 to give the value in cm^2\n",
    "        d=0\n",
    "        for j in range(0,16):\n",
    "            \n",
    "            \n",
    "            vx = (170 + j*50) #setting macro speed\n",
    "            \n",
    "            if vx <230:\n",
    "                Mx=(8.0*10**5)*(1-(-1.95313*10**9 + 1.95312*10**9*np.exp(-((-170 + vx)**2/62500)) + (1.17702*10**9 - 6.92365*10**6*vx)*erf(0.68 - 0.004*vx))/((np.pi*250**2)**1.5*(60)))\n",
    "            if vx >230:\n",
    "                Mx=(8.0*10**5)*(1-(6.1501*10**8*np.exp((0.00544 - 0.000016*vx)*vx) - 8.37805*10**8*np.exp(-(((-460 + vx)*vx)/62500))+ \n",
    "                    6.1501*10**8*np.exp(-(((-340 + vx)*vx)/62500)) + (1.17702*10**9 - 6.92365*10**6*vx)*erf(0.68 - 0.004*vx) \n",
    "                        + (1.59244*10**9 - 6.92365*10**6 *vx)*erf((-230 + vx)/250))*(4*np.pi/((np.pi*250**2)**1.5*(60))))\n",
    "                \n",
    "            vx=vx*np.exp(-500000*3*reduced)\n",
    "            \n",
    "            t_vapormax = sigmax*(vx*1000)**2/(vapor_energy * e * 4 *pi*alpha)\n",
    "            t_meltmax = sigmax*(vx*1000)**2/(latent_fusion * e * 4 *pi*alpha)\n",
    "\n",
    "            t = t_vapormax/a\n",
    "\n",
    "            area_vapor = pi*(4*alpha*t*np.log(sigmax*(vx*1000)**2/(vapor_energy*4*pi*alpha*t)))**2\n",
    "\n",
    "            area_melt = pi*(4*alpha*t*np.log(sigmax*(vx*1000)**2/(latent_fusion*4*pi*alpha*t)))**2\n",
    "\n",
    "            increment = (np.sqrt(area_melt/pi)-np.sqrt(area_vapor/pi))/b\n",
    "\n",
    "            t1 = t_meltmax/a\n",
    "\n",
    "            area_melt1 = pi*(4*alpha*t1*np.log(sigmax*(vx*1000)**2/(latent_fusion*4*pi*alpha*t1)))**2\n",
    "\n",
    "            increment1 = (np.sqrt(area_melt1/pi)-np.sqrt(area_vapor/pi))/b\n",
    "\n",
    "            if vx <230:\n",
    "                Mx=(8.0*10**5)*(1-(-1.95313*10**9 + 1.95312*10**9*np.exp(-((-170 + vx)**2/62500)) + (1.17702*10**9 - 6.92365*10**6*vx)*erf(0.68 - 0.004*vx))/((np.pi*250**2)**1.5*(60)))\n",
    "            if vx >230:\n",
    "                Mx=(8.0*10**5)*(1-(6.1501*10**8*np.exp((0.00544 - 0.000016*vx)*vx) - 8.37805*10**8*np.exp(-(((-460 + vx)*vx)/62500))+ \n",
    "                    6.1501*10**8*np.exp(-(((-340 + vx)*vx)/62500)) + (1.17702*10**9 - 6.92365*10**6*vx)*erf(0.68 - 0.004*vx) \n",
    "                        + (1.59244*10**9 - 6.92365*10**6 *vx)*erf((-230 + vx)/250))*(4*np.pi/((np.pi*250**2)**1.5*(60))))\n",
    "            \n",
    "#             deltaE=0.0\n",
    "#             for i in range(0,b):\n",
    "#                 deltaE = deltaE + pi*(-(np.sqrt(area_vapor/pi)+increment*i)**2+((np.sqrt(area_vapor/pi)+\n",
    "#                         increment*(i+1))**2))*cp*sigmax*(vx*1000)**2*np.exp(-(np.sqrt(area_vapor/pi)+\n",
    "#                                                                        increment*(i+1))**2/(4*alpha*t))/(4*pi*alpha*cp*t)\n",
    "#             deltaE = deltaE + area_vapor*vapor_energy\n",
    "\n",
    "\n",
    "            deltaE1=0.0\n",
    "\n",
    "            for i in range(0,b):\n",
    "                deltaE1 = deltaE1 + pi*(-(np.sqrt(area_vapor/pi)+increment1*i)**2+((np.sqrt(area_vapor/pi)+\n",
    "                        increment1*(i+1))**2))*cp*sigmax*(vx*1000)**2*np.exp(-(np.sqrt(area_vapor/pi)+\n",
    "                                                                       increment1*(i+1))**2/(4*alpha*t1))/(4*pi*alpha*cp*t1)\n",
    "            deltaE1 = deltaE1 + area_vapor*vapor_energy\n",
    "\n",
    "#             print(deltaE1/(0.5*sigmax*(vx*1000)**2),sigmax,2*np.sqrt(area_melt1/pi)/0.01)\n",
    "\n",
    "            if 2*np.sqrt(area_melt1/pi)/0.01>10:\n",
    "#                 if sigmax*10000/Mx>reduced:\n",
    "#                 print(sigmax*10000,Mx,vx)\n",
    "                if Mx>placeholder:\n",
    "                    Mmax.append(Mx)\n",
    "                    placeholder=Mx\n",
    "                    Smin.append(sigmax*10000)\n",
    "\n",
    "\n",
    "\n",
    "print(Mmax,Smin)"
   ]
  },
  {
   "cell_type": "code",
   "execution_count": 9,
   "metadata": {},
   "outputs": [
    {
     "name": "stdout",
     "output_type": "stream",
     "text": [
      "[[4611.222788323133, 0.001], [127685.86291654946, 0.002], [297856.7828946357, 0.003], [527979.7480802125, 0.004], [636190.7578374096, 0.005], [720667.7517672464, 0.006999999999999999], [773192.782077309, 0.009]]\n"
     ]
    }
   ],
   "source": [
    "sedi = [[0.0]*2 for i in range(len(Mmax))]\n",
    "for i in range(0,len(Mmax)):\n",
    "    sedi[i][0]=Mmax[i]\n",
    "    sedi[i][1]=Smin[i]\n",
    "print(sedi)"
   ]
  },
  {
   "cell_type": "code",
   "execution_count": 84,
   "metadata": {},
   "outputs": [
    {
     "ename": "TypeError",
     "evalue": "list indices must be integers or slices, not tuple",
     "output_type": "error",
     "traceback": [
      "\u001b[1;31m---------------------------------------------------------------------------\u001b[0m",
      "\u001b[1;31mTypeError\u001b[0m                                 Traceback (most recent call last)",
      "\u001b[1;32m<ipython-input-84-be0dc7febb9c>\u001b[0m in \u001b[0;36m<module>\u001b[1;34m()\u001b[0m\n\u001b[0;32m      1\u001b[0m [7.30801885729182, 20.66774859309728, 53.72149857457398, 128.40281509152084, \n\u001b[1;32m----> 2\u001b[1;33m  282.1700501454902, 569.9140124535091, 1057.5500464093884, 1802.3496013744955, 4054.8822891079135, 6535.657323514461, 8000.015324767755] [9e-06, 1e-05, 3.0000000000000004e-05, 6.000000000000001e-05, 0.0002, 0.00030000000000000003, 0.0005, 0.0009, 0.002, 0.003, 0.004]\n\u001b[0m",
      "\u001b[1;31mTypeError\u001b[0m: list indices must be integers or slices, not tuple"
     ]
    }
   ],
   "source": [
    "[7.30801885729182, 20.66774859309728, 53.72149857457398, 128.40281509152084, \n",
    " 282.1700501454902, 569.9140124535091, 1057.5500464093884, 1802.3496013744955, \n",
    " 4054.8822891079135, 6535.657323514461, 8000.015324767755] [9e-06, 1e-05, 3.0000000000000004e-05, \n",
    "6.000000000000001e-05, 0.0002, 0.00030000000000000003, 0.0005, 0.0009, 0.002, 0.003, 0.004]\n"
   ]
  },
  {
   "cell_type": "code",
   "execution_count": null,
   "metadata": {},
   "outputs": [],
   "source": []
  }
 ],
 "metadata": {
  "kernelspec": {
   "display_name": "Python 3",
   "language": "python",
   "name": "python3"
  },
  "language_info": {
   "codemirror_mode": {
    "name": "ipython",
    "version": 3
   },
   "file_extension": ".py",
   "mimetype": "text/x-python",
   "name": "python",
   "nbconvert_exporter": "python",
   "pygments_lexer": "ipython3",
   "version": "3.6.5"
  }
 },
 "nbformat": 4,
 "nbformat_minor": 2
}
